{
  "nbformat": 4,
  "nbformat_minor": 0,
  "metadata": {
    "colab": {
      "provenance": [],
      "authorship_tag": "ABX9TyPms31OikniXGqzqjGcDsjF",
      "include_colab_link": true
    },
    "kernelspec": {
      "name": "python3",
      "display_name": "Python 3"
    },
    "language_info": {
      "name": "python"
    }
  },
  "cells": [
    {
      "cell_type": "markdown",
      "metadata": {
        "id": "view-in-github",
        "colab_type": "text"
      },
      "source": [
        "<a href=\"https://colab.research.google.com/github/Yudesh-thapa/Black-jack-game.ipynb/blob/main/Black_Jack_game.ipynb\" target=\"_parent\"><img src=\"https://colab.research.google.com/assets/colab-badge.svg\" alt=\"Open In Colab\"/></a>"
      ]
    },
    {
      "cell_type": "code",
      "execution_count": null,
      "metadata": {
        "id": "teU4H434u-F0"
      },
      "outputs": [],
      "source": [
        "#black jack game\n",
        "\n",
        "import random\n",
        "\n",
        "def start_game():\n",
        "    game = input(\"Do you want to start the game? Type 'yes' or 'no': \")\n",
        "    if game == 'yes':\n",
        "        user_cards = []\n",
        "        computer_cards = []\n",
        "        game_round(user_cards, computer_cards)\n",
        "    else:\n",
        "        print(\"Goodbye!\")\n",
        "\n",
        "def deal_card():\n",
        "    cards = [11, 2, 3, 4, 5, 6, 7, 8, 9, 10, 10, 10, 10]\n",
        "    return random.choice(cards)\n",
        "\n",
        "def calculated_score(cards):\n",
        "    if sum(cards) == 21 and len(cards) == 2:\n",
        "        return 0\n",
        "    if sum(cards) > 21 and 11 in cards:\n",
        "        cards.remove(11)\n",
        "        cards.append(1)\n",
        "    return sum(cards)\n",
        "\n",
        "def compare(user_score, computer_score):\n",
        "    if user_score > 21 and computer_score > 21:\n",
        "        return \"You went over. You lose.\"\n",
        "    elif user_score == computer_score:\n",
        "        return \"Draw\"\n",
        "    elif user_score == 0:\n",
        "        return \"You won with a Blackjack!\"\n",
        "    elif computer_score == 0:\n",
        "        return \"Computer wins. You lose.\"\n",
        "    elif user_score > computer_score:\n",
        "        return \"You win!\"\n",
        "    else:\n",
        "        return \"You lose.\"\n",
        "\n",
        "def game_round(user_cards, computer_cards):\n",
        "    for _ in range(2):\n",
        "        user_cards.append(deal_card())\n",
        "        computer_cards.append(deal_card())\n",
        "\n",
        "    while True:\n",
        "        user_score = calculated_score(user_cards)\n",
        "        computer_score = calculated_score(computer_cards)\n",
        "\n",
        "        print(f\"Your cards are: {user_cards}, Score: {user_score}\")\n",
        "        print(f\"Computer's first card: {computer_cards[0]}\")\n",
        "\n",
        "        if user_score > 21 or user_score == 0 or computer_score == 0:\n",
        "            break\n",
        "        else:\n",
        "            draw_another_card = input(\"Type 'Y' to draw another card, Type 'N' to pass: \")\n",
        "\n",
        "            if draw_another_card == 'Y':\n",
        "                user_cards.append(deal_card())\n",
        "            else:\n",
        "                break\n",
        "\n",
        "    while computer_score != 0 and computer_score < 17:\n",
        "        computer_cards.append(deal_card())\n",
        "        computer_score = calculated_score(computer_cards)\n",
        "\n",
        "    print(f\"Your Cards: {user_cards}, Your Score: {user_score}\")\n",
        "    print(f\"Computer Cards: {computer_cards}, Computer Score: {computer_score}\")\n",
        "\n",
        "    print(compare(user_score, computer_score))\n",
        "\n",
        "# Start the game"
      ]
    }
  ]
}